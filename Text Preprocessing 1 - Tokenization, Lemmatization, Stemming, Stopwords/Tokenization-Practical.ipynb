{
 "cells": [
  {
   "cell_type": "markdown",
   "metadata": {},
   "source": [
    "## **Tokenization**\n",
    "\n",
    "Tokenization is the process of breaking down a text into smaller units called tokens. In the context of natural language processing (NLP), tokens are usually words, phrases, symbols, or other meaningful elements. The primary goal of tokenization is to simplify the text and make it easier to analyze."
   ]
  },
  {
   "cell_type": "code",
   "execution_count": 1,
   "metadata": {},
   "outputs": [],
   "source": [
    "corpus = \"\"\"The moon, Earth's only natural satellite, orbits at an average distance of 238,855 miles and has a diameter of 3,474 kilometers, making it about 1/4th the size of our planet.\n",
    "With just 1/6th of Earth's gravitational force, the moon lacks an atmosphere, resulting in a unique environment.\n",
    "Its surface displays phases like new moon, first quarter, full moon, and last quarter due to its orbital dance with Earth, showcasing craters, mountains, and plains from meteoroid impacts.\n",
    "The moon's synchronous rotation means the same side always faces Earth, while the far side remains hidden.\n",
    "Playing a pivotal role in Earth's tides through gravitational interactions, the moon, with lunar regolith covering its surface, left an indelible mark on human history, especially through the successful Apollo missions landing astronauts between 1969 and 1972.\"\"\""
   ]
  },
  {
   "cell_type": "code",
   "execution_count": 2,
   "metadata": {},
   "outputs": [
    {
     "name": "stdout",
     "output_type": "stream",
     "text": [
      "The moon, Earth's only natural satellite, orbits at an average distance of 238,855 miles and has a diameter of 3,474 kilometers, making it about 1/4th the size of our planet.\n",
      "With just 1/6th of Earth's gravitational force, the moon lacks an atmosphere, resulting in a unique environment.\n",
      "Its surface displays phases like new moon, first quarter, full moon, and last quarter due to its orbital dance with Earth, showcasing craters, mountains, and plains from meteoroid impacts.\n",
      "The moon's synchronous rotation means the same side always faces Earth, while the far side remains hidden.\n",
      "Playing a pivotal role in Earth's tides through gravitational interactions, the moon, with lunar regolith covering its surface, left an indelible mark on human history, especially through the successful Apollo missions landing astronauts between 1969 and 1972.\n"
     ]
    }
   ],
   "source": [
    "print(corpus)"
   ]
  },
  {
   "cell_type": "code",
   "execution_count": 3,
   "metadata": {},
   "outputs": [],
   "source": [
    "## Tokenization\n",
    "## Paragraphs --> Sentence\n",
    "from nltk.tokenize import sent_tokenize"
   ]
  },
  {
   "cell_type": "code",
   "execution_count": 4,
   "metadata": {},
   "outputs": [],
   "source": [
    "documents = sent_tokenize(corpus)"
   ]
  },
  {
   "cell_type": "code",
   "execution_count": 5,
   "metadata": {},
   "outputs": [
    {
     "data": {
      "text/plain": [
       "(list,\n",
       " [\"The moon, Earth's only natural satellite, orbits at an average distance of 238,855 miles and has a diameter of 3,474 kilometers, making it about 1/4th the size of our planet.\",\n",
       "  \"With just 1/6th of Earth's gravitational force, the moon lacks an atmosphere, resulting in a unique environment.\",\n",
       "  'Its surface displays phases like new moon, first quarter, full moon, and last quarter due to its orbital dance with Earth, showcasing craters, mountains, and plains from meteoroid impacts.',\n",
       "  \"The moon's synchronous rotation means the same side always faces Earth, while the far side remains hidden.\",\n",
       "  \"Playing a pivotal role in Earth's tides through gravitational interactions, the moon, with lunar regolith covering its surface, left an indelible mark on human history, especially through the successful Apollo missions landing astronauts between 1969 and 1972.\"])"
      ]
     },
     "execution_count": 5,
     "metadata": {},
     "output_type": "execute_result"
    }
   ],
   "source": [
    "type(documents), documents"
   ]
  },
  {
   "cell_type": "code",
   "execution_count": 6,
   "metadata": {},
   "outputs": [],
   "source": [
    "## Tokenization\n",
    "## Paragraphs --> Words\n",
    "## Sentences --> Words\n",
    "from nltk.tokenize import word_tokenize"
   ]
  },
  {
   "cell_type": "code",
   "execution_count": 7,
   "metadata": {},
   "outputs": [
    {
     "data": {
      "text/plain": [
       "['The',\n",
       " 'moon',\n",
       " ',',\n",
       " 'Earth',\n",
       " \"'s\",\n",
       " 'only',\n",
       " 'natural',\n",
       " 'satellite',\n",
       " ',',\n",
       " 'orbits']"
      ]
     },
     "execution_count": 7,
     "metadata": {},
     "output_type": "execute_result"
    }
   ],
   "source": [
    "word_tokenize(corpus)[:10]"
   ]
  },
  {
   "cell_type": "code",
   "execution_count": 8,
   "metadata": {},
   "outputs": [
    {
     "name": "stdout",
     "output_type": "stream",
     "text": [
      "['The', 'moon', ',', 'Earth', \"'s\", 'only', 'natural', 'satellite', ',', 'orbits', 'at', 'an', 'average', 'distance', 'of', '238,855', 'miles', 'and', 'has', 'a', 'diameter', 'of', '3,474', 'kilometers', ',', 'making', 'it', 'about', '1/4th', 'the', 'size', 'of', 'our', 'planet', '.']\n",
      "['With', 'just', '1/6th', 'of', 'Earth', \"'s\", 'gravitational', 'force', ',', 'the', 'moon', 'lacks', 'an', 'atmosphere', ',', 'resulting', 'in', 'a', 'unique', 'environment', '.']\n",
      "['Its', 'surface', 'displays', 'phases', 'like', 'new', 'moon', ',', 'first', 'quarter', ',', 'full', 'moon', ',', 'and', 'last', 'quarter', 'due', 'to', 'its', 'orbital', 'dance', 'with', 'Earth', ',', 'showcasing', 'craters', ',', 'mountains', ',', 'and', 'plains', 'from', 'meteoroid', 'impacts', '.']\n",
      "['The', 'moon', \"'s\", 'synchronous', 'rotation', 'means', 'the', 'same', 'side', 'always', 'faces', 'Earth', ',', 'while', 'the', 'far', 'side', 'remains', 'hidden', '.']\n",
      "['Playing', 'a', 'pivotal', 'role', 'in', 'Earth', \"'s\", 'tides', 'through', 'gravitational', 'interactions', ',', 'the', 'moon', ',', 'with', 'lunar', 'regolith', 'covering', 'its', 'surface', ',', 'left', 'an', 'indelible', 'mark', 'on', 'human', 'history', ',', 'especially', 'through', 'the', 'successful', 'Apollo', 'missions', 'landing', 'astronauts', 'between', '1969', 'and', '1972', '.']\n"
     ]
    }
   ],
   "source": [
    "for sentence in documents:\n",
    "    print(word_tokenize(sentence))"
   ]
  },
  {
   "cell_type": "code",
   "execution_count": 9,
   "metadata": {},
   "outputs": [],
   "source": [
    "from nltk.tokenize import wordpunct_tokenize"
   ]
  },
  {
   "cell_type": "code",
   "execution_count": 10,
   "metadata": {},
   "outputs": [
    {
     "data": {
      "text/plain": [
       "['The', 'moon', ',', 'Earth', \"'\", 's', 'only', 'natural', 'satellite', ',']"
      ]
     },
     "execution_count": 10,
     "metadata": {},
     "output_type": "execute_result"
    }
   ],
   "source": [
    "wordpunct_tokenize(corpus)[:10]"
   ]
  },
  {
   "cell_type": "code",
   "execution_count": 11,
   "metadata": {},
   "outputs": [],
   "source": [
    "from nltk.tokenize import TreebankWordTokenizer"
   ]
  },
  {
   "cell_type": "code",
   "execution_count": 12,
   "metadata": {},
   "outputs": [],
   "source": [
    "tokenizer = TreebankWordTokenizer()"
   ]
  },
  {
   "cell_type": "code",
   "execution_count": 13,
   "metadata": {},
   "outputs": [
    {
     "data": {
      "text/plain": [
       "['The',\n",
       " 'moon',\n",
       " ',',\n",
       " 'Earth',\n",
       " \"'s\",\n",
       " 'only',\n",
       " 'natural',\n",
       " 'satellite',\n",
       " ',',\n",
       " 'orbits']"
      ]
     },
     "execution_count": 13,
     "metadata": {},
     "output_type": "execute_result"
    }
   ],
   "source": [
    "tokenizer.tokenize(corpus)[:10]"
   ]
  }
 ],
 "metadata": {
  "kernelspec": {
   "display_name": "Python 3",
   "language": "python",
   "name": "python3"
  },
  "language_info": {
   "codemirror_mode": {
    "name": "ipython",
    "version": 3
   },
   "file_extension": ".py",
   "mimetype": "text/x-python",
   "name": "python",
   "nbconvert_exporter": "python",
   "pygments_lexer": "ipython3",
   "version": "3.11.4"
  }
 },
 "nbformat": 4,
 "nbformat_minor": 2
}
