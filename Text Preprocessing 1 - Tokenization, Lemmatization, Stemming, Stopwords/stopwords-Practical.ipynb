{
 "cells": [
  {
   "cell_type": "markdown",
   "metadata": {},
   "source": [
    "## **StopWords**\n",
    "Stopwords are common words that are often filtered out during the preprocessing of natural language text in various applications, such as text analysis and natural language processing (NLP). These words are generally considered to be of little value in terms of conveying meaningful information about the content of a document or sentence."
   ]
  },
  {
   "cell_type": "code",
   "execution_count": 10,
   "metadata": {},
   "outputs": [],
   "source": [
    "corpus = \"\"\"Saudara-saudara rakyat jelata di seluruh Indonesia terutama saudara-saudara penduduk Kota Surabaya.\n",
    "Kita semuanya telah mengetahui. Bahwa hari ini tentara Inggris telah menyebarkan pamflet-pamflet yang memberikan suatu ancaman kepada kita semua. \n",
    "Kita diwajibkan untuk dalam waktu yang mereka tentukan, menyerahkan senjata-senjata yang telah kita rebut dari tangan tentara Jepang. \n",
    "Mereka telah minta supaya kita datang pada mereka itu dengan mengangkat tangan. Mereka telah minta supaya kita semua datang pada mereka itu dengan membawa bendera putih tanda bahwa kita menyerah kepada mereka.\n",
    "\"\"\""
   ]
  },
  {
   "cell_type": "code",
   "execution_count": 11,
   "metadata": {},
   "outputs": [],
   "source": [
    "from nltk.corpus import stopwords\n",
    "from Sastrawi.Stemmer.StemmerFactory import StemmerFactory\n",
    "import nltk"
   ]
  },
  {
   "cell_type": "code",
   "execution_count": 12,
   "metadata": {},
   "outputs": [],
   "source": [
    "# Create stopwords and stemmer object\n",
    "sw_indonesian = stopwords.words('indonesian')\n",
    "stem_idn = StemmerFactory().create_stemmer()"
   ]
  },
  {
   "cell_type": "code",
   "execution_count": 13,
   "metadata": {},
   "outputs": [
    {
     "data": {
      "text/plain": [
       "(['ada', 'adalah', 'adanya', 'adapun', 'agak'], 758)"
      ]
     },
     "execution_count": 13,
     "metadata": {},
     "output_type": "execute_result"
    }
   ],
   "source": [
    "# Stopword example in Bahasa Indonesia\n",
    "sw_indonesian[:5], len(sw_indonesian)"
   ]
  },
  {
   "cell_type": "code",
   "execution_count": 14,
   "metadata": {},
   "outputs": [
    {
     "data": {
      "text/plain": [
       "'tinggal'"
      ]
     },
     "execution_count": 14,
     "metadata": {},
     "output_type": "execute_result"
    }
   ],
   "source": [
    "# Stemming example in Bahasa Indonesia\n",
    "stem_idn.stem(\"meninggal\")"
   ]
  },
  {
   "cell_type": "code",
   "execution_count": 15,
   "metadata": {},
   "outputs": [],
   "source": [
    "documents = nltk.sent_tokenize(corpus)"
   ]
  },
  {
   "cell_type": "code",
   "execution_count": 16,
   "metadata": {},
   "outputs": [
    {
     "data": {
      "text/plain": [
       "['Saudara-saudara rakyat jelata di seluruh Indonesia terutama saudara-saudara penduduk Kota Surabaya.',\n",
       " 'Kita semuanya telah mengetahui.',\n",
       " 'Bahwa hari ini tentara Inggris telah menyebarkan pamflet-pamflet yang memberikan suatu ancaman kepada kita semua.',\n",
       " 'Kita diwajibkan untuk dalam waktu yang mereka tentukan, menyerahkan senjata-senjata yang telah kita rebut dari tangan tentara Jepang.',\n",
       " 'Mereka telah minta supaya kita datang pada mereka itu dengan mengangkat tangan.',\n",
       " 'Mereka telah minta supaya kita semua datang pada mereka itu dengan membawa bendera putih tanda bahwa kita menyerah kepada mereka.']"
      ]
     },
     "execution_count": 16,
     "metadata": {},
     "output_type": "execute_result"
    }
   ],
   "source": [
    "documents"
   ]
  },
  {
   "cell_type": "code",
   "execution_count": 17,
   "metadata": {},
   "outputs": [],
   "source": [
    "# Apply Stopwords and Filters and Apply Stemming\n",
    "clear_doc = []\n",
    "for i in range(len(documents)):\n",
    "    words = nltk.word_tokenize(documents[i])\n",
    "    words = [stem_idn.stem(word) for word in words if word not in sw_indonesian]\n",
    "    clear_doc.append(' '.join(words))"
   ]
  },
  {
   "cell_type": "code",
   "execution_count": 18,
   "metadata": {},
   "outputs": [
    {
     "data": {
      "text/plain": [
       "['saudara rakyat jelata indonesia saudara duduk kota surabaya ',\n",
       " 'kita ',\n",
       " 'bahwa tentara inggris sebar pamflet ancam ',\n",
       " 'kita wajib tentu  serah senjata rebut tangan tentara jepang ',\n",
       " 'mereka angkat tangan ',\n",
       " 'mereka bawa bendera putih tanda serah ']"
      ]
     },
     "execution_count": 18,
     "metadata": {},
     "output_type": "execute_result"
    }
   ],
   "source": [
    "clear_doc"
   ]
  }
 ],
 "metadata": {
  "kernelspec": {
   "display_name": "Python 3",
   "language": "python",
   "name": "python3"
  },
  "language_info": {
   "codemirror_mode": {
    "name": "ipython",
    "version": 3
   },
   "file_extension": ".py",
   "mimetype": "text/x-python",
   "name": "python",
   "nbconvert_exporter": "python",
   "pygments_lexer": "ipython3",
   "version": "3.11.4"
  }
 },
 "nbformat": 4,
 "nbformat_minor": 2
}
