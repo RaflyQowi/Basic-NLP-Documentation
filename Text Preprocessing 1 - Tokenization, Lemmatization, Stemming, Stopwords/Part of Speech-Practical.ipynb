{
 "cells": [
  {
   "cell_type": "markdown",
   "metadata": {},
   "source": [
    "## **Parts of speech (POS)**\n",
    "\n",
    "Parts of speech (POS) tags are labels assigned to words in a sentence to indicate their grammatical category or syntactic function within the sentence. POS tagging is a crucial step in natural language processing (NLP) and linguistic analysis as it helps in understanding the structure and meaning of a sentence. Here are some common parts of speech and their corresponding tags:\n",
    "\n",
    "1. **Noun (NN)**: A word that represents a person, place, thing, or idea.\n",
    "   - Example: cat, dog, book, happiness\n",
    "\n",
    "2. **Verb (VB)**: A word that describes an action or occurrence.\n",
    "   - Example: run, eat, sleep, write\n",
    "\n",
    "3. **Adjective (JJ)**: A word that describes or modifies a noun.\n",
    "   - Example: beautiful, happy, tall, blue\n",
    "\n",
    "4. **Adverb (RB)**: A word that describes or modifies a verb, adjective, or another adverb, often indicating how, when, or where an action takes place.\n",
    "   - Example: quickly, loudly, very, now\n",
    "\n",
    "5. **Pronoun (PRP)**: A word that takes the place of a noun.\n",
    "   - Example: he, she, it, they\n",
    "\n",
    "6. **Preposition (IN)**: A word that shows the relationship between a noun or pronoun and other words in a sentence.\n",
    "   - Example: in, on, at, under\n",
    "\n",
    "7. **Conjunction (CC)**: A word that connects words, phrases, or clauses.\n",
    "   - Example: and, but, or, so\n",
    "\n",
    "8. **Interjection (UH)**: A word or phrase expressing strong emotion or surprise.\n",
    "   - Example: wow, oh, hey\n",
    "\n",
    "9. **Determiner (DT)**: A word that introduces a noun and expresses its reference in the context.\n",
    "   - Example: the, a, this, those\n",
    "\n",
    "10. **Numeral (CD)**: A word or symbol representing a number.\n",
    "    - Example: one, 2, first, second\n",
    "\n",
    "In a sentence, each word is assigned a POS tag to indicate its grammatical role. For example, in the sentence \"The cat is sleeping,\" the POS tags would be \"DT (The) NN (cat) VBZ (is) VBG (sleeping).\" POS tagging is used in various NLP applications, including text analysis, information retrieval, and machine translation."
   ]
  },
  {
   "cell_type": "code",
   "execution_count": 1,
   "metadata": {},
   "outputs": [],
   "source": [
    "corpus =\"\"\"could not have blamed you for being the first to lose heart if I, your commander, had not shared in your exhausting marches and your perilous campaigns;\n",
    "it would have been natural enough if you had done all the work merely for others to reap the reward. \n",
    "But it is not so. You and I, gentlemen, have shared the labour and shared the danger, and the rewards are for us all. \n",
    "The conquered territory belongs to you; from your ranks the governors of it are chosen; already the greater part of its treasure passes into your hands, \n",
    "and when all Asia is overrun, then indeed I will go further than the mere satisfaction of our ambitions: the utmost hopes of riches or power which each one of you cherishes will be far surpassed, \n",
    "and whoever wishes to return home will be allowed to go, either with me or without me. I will make those who stay the envy of those who return.\n",
    "\"\"\""
   ]
  },
  {
   "cell_type": "code",
   "execution_count": 2,
   "metadata": {},
   "outputs": [],
   "source": [
    "import nltk\n",
    "from nltk.corpus import stopwords\n",
    "documents = nltk.sent_tokenize(corpus)"
   ]
  },
  {
   "cell_type": "code",
   "execution_count": 3,
   "metadata": {},
   "outputs": [
    {
     "data": {
      "text/plain": [
       "['could not have blamed you for being the first to lose heart if I, your commander, had not shared in your exhausting marches and your perilous campaigns;\\nit would have been natural enough if you had done all the work merely for others to reap the reward.',\n",
       " 'But it is not so.',\n",
       " 'You and I, gentlemen, have shared the labour and shared the danger, and the rewards are for us all.',\n",
       " 'The conquered territory belongs to you; from your ranks the governors of it are chosen; already the greater part of its treasure passes into your hands, \\nand when all Asia is overrun, then indeed I will go further than the mere satisfaction of our ambitions: the utmost hopes of riches or power which each one of you cherishes will be far surpassed, \\nand whoever wishes to return home will be allowed to go, either with me or without me.',\n",
       " 'I will make those who stay the envy of those who return.']"
      ]
     },
     "execution_count": 3,
     "metadata": {},
     "output_type": "execute_result"
    }
   ],
   "source": [
    "documents"
   ]
  },
  {
   "cell_type": "code",
   "execution_count": 4,
   "metadata": {},
   "outputs": [
    {
     "name": "stdout",
     "output_type": "stream",
     "text": [
      "The quick brown fox jumps over the lazy dog.\n",
      "[('The', 'DT'), ('quick', 'JJ'), ('brown', 'NN'), ('fox', 'NN'), ('jumps', 'VBZ'), ('over', 'IN'), ('the', 'DT'), ('lazy', 'JJ'), ('dog.', 'NN')]\n"
     ]
    }
   ],
   "source": [
    "print(\"The quick brown fox jumps over the lazy dog.\")\n",
    "print(nltk.pos_tag(\"The quick brown fox jumps over the lazy dog.\".split(\" \")))"
   ]
  },
  {
   "cell_type": "code",
   "execution_count": 5,
   "metadata": {},
   "outputs": [
    {
     "name": "stdout",
     "output_type": "stream",
     "text": [
      "[('could', 'MD'), ('blamed', 'VB'), ('first', 'RB'), ('lose', 'JJ'), ('heart', 'NN'), ('I', 'PRP'), (',', ','), ('commander', 'NN'), (',', ','), ('shared', 'VBD'), ('exhausting', 'VBG'), ('marches', 'NNS'), ('perilous', 'JJ'), ('campaigns', 'NNS'), (';', ':'), ('would', 'MD'), ('natural', 'JJ'), ('enough', 'RB'), ('done', 'VBN'), ('work', 'NN'), ('merely', 'RB'), ('others', 'NNS'), ('reap', 'VBP'), ('reward', 'NN'), ('.', '.')]\n",
      "[('But', 'CC'), ('.', '.')]\n",
      "[('You', 'PRP'), ('I', 'PRP'), (',', ','), ('gentlemen', 'NNS'), (',', ','), ('shared', 'VBD'), ('labour', 'NN'), ('shared', 'VBN'), ('danger', 'NN'), (',', ','), ('rewards', 'NNS'), ('us', 'PRP'), ('.', '.')]\n",
      "[('The', 'DT'), ('conquered', 'JJ'), ('territory', 'NN'), ('belongs', 'NNS'), (';', ':'), ('ranks', 'VBZ'), ('governors', 'NNS'), ('chosen', 'VBP'), (';', ':'), ('already', 'RB'), ('greater', 'JJR'), ('part', 'NN'), ('treasure', 'NN'), ('passes', 'VBZ'), ('hands', 'NNS'), (',', ','), ('Asia', 'NNP'), ('overrun', 'UH'), (',', ','), ('indeed', 'RB'), ('I', 'PRP'), ('go', 'VBP'), ('mere', 'JJ'), ('satisfaction', 'NN'), ('ambitions', 'NNS'), (':', ':'), ('utmost', 'JJ'), ('hopes', 'NNS'), ('riches', 'NNS'), ('power', 'NN'), ('one', 'CD'), ('cherishes', 'VBZ'), ('far', 'RB'), ('surpassed', 'VBN'), (',', ','), ('whoever', 'WP'), ('wishes', 'VBZ'), ('return', 'NN'), ('home', 'NN'), ('allowed', 'VBD'), ('go', 'VB'), (',', ','), ('either', 'RB'), ('without', 'IN'), ('.', '.')]\n",
      "[('I', 'PRP'), ('make', 'VBP'), ('stay', 'JJ'), ('envy', 'JJ'), ('return', 'NN'), ('.', '.')]\n"
     ]
    }
   ],
   "source": [
    "# Find out the POS tag\n",
    "for i in range(len(documents)):\n",
    "    words=nltk.word_tokenize(documents[i])\n",
    "    words=[word for word in words if word not in set(stopwords.words('english'))]\n",
    "    pos_tag=nltk.pos_tag(words)\n",
    "    print(pos_tag)"
   ]
  }
 ],
 "metadata": {
  "kernelspec": {
   "display_name": "Python 3",
   "language": "python",
   "name": "python3"
  },
  "language_info": {
   "codemirror_mode": {
    "name": "ipython",
    "version": 3
   },
   "file_extension": ".py",
   "mimetype": "text/x-python",
   "name": "python",
   "nbconvert_exporter": "python",
   "pygments_lexer": "ipython3",
   "version": "3.11.4"
  }
 },
 "nbformat": 4,
 "nbformat_minor": 2
}
