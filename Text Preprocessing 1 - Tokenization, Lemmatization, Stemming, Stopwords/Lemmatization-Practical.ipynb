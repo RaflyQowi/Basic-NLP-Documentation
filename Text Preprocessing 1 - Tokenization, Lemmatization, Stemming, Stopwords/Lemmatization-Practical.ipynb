{
 "cells": [
  {
   "cell_type": "markdown",
   "metadata": {},
   "source": [
    "## **Lemmatization**\n",
    "Lemmatization is another text normalization technique in natural language processing (NLP), similar to stemming, but with a key difference. While stemming involves reducing words to their base or root form, lemmatization goes a step further by reducing words to their canonical, dictionary form, known as the \"lemma.\"\n",
    "\n",
    "The lemma is the base or root form of a word, and lemmatization takes into account the context of the word and its part of speech. This process aims to transform words to a common base form, making it easier to group different inflections or variations of a word together."
   ]
  },
  {
   "cell_type": "code",
   "execution_count": 9,
   "metadata": {},
   "outputs": [],
   "source": [
    "# Example words for lemmatization\n",
    "words = [\"cats\", \"running\", \"better\", \"houses\", \"wonderful\", \"happier\", \"rocking\", \"talked\", \"jumps\", \"wrote\",\n",
    "         \"working\", \"easier\", \"happiest\", \"played\", \"faster\", \"swimming\", \"playing\", \"saddest\", \"glorious\", \"happily\"]"
   ]
  },
  {
   "cell_type": "code",
   "execution_count": 10,
   "metadata": {},
   "outputs": [],
   "source": [
    "from nltk.stem import WordNetLemmatizer"
   ]
  },
  {
   "cell_type": "code",
   "execution_count": 11,
   "metadata": {},
   "outputs": [],
   "source": [
    "lemmatizer = WordNetLemmatizer()"
   ]
  },
  {
   "cell_type": "code",
   "execution_count": 13,
   "metadata": {},
   "outputs": [
    {
     "data": {
      "text/plain": [
       "'go'"
      ]
     },
     "execution_count": 13,
     "metadata": {},
     "output_type": "execute_result"
    }
   ],
   "source": [
    "'''\n",
    "POS- Noun-n\n",
    "verb-v\n",
    "adjective-a\n",
    "adverb-r\n",
    "'''\n",
    "lemmatizer.lemmatize(\"going\",pos='v')"
   ]
  },
  {
   "cell_type": "code",
   "execution_count": 17,
   "metadata": {},
   "outputs": [
    {
     "name": "stdout",
     "output_type": "stream",
     "text": [
      "1. cats --> cat\n",
      "2. running --> running\n",
      "3. better --> better\n",
      "4. houses --> house\n",
      "5. wonderful --> wonderful\n",
      "6. happier --> happier\n",
      "7. rocking --> rocking\n",
      "8. talked --> talked\n",
      "9. jumps --> jump\n",
      "10. wrote --> wrote\n",
      "11. working --> working\n",
      "12. easier --> easier\n",
      "13. happiest --> happiest\n",
      "14. played --> played\n",
      "15. faster --> faster\n",
      "16. swimming --> swimming\n",
      "17. playing --> playing\n",
      "18. saddest --> saddest\n",
      "19. glorious --> glorious\n",
      "20. happily --> happily\n"
     ]
    }
   ],
   "source": [
    "for i, word in enumerate(words):\n",
    "    print(f\"{i+1}. {word} --> {lemmatizer.lemmatize(word, pos = 'n')}\")"
   ]
  },
  {
   "cell_type": "code",
   "execution_count": 19,
   "metadata": {},
   "outputs": [
    {
     "name": "stdout",
     "output_type": "stream",
     "text": [
      "1. cats --> cat\n",
      "2. running --> run\n",
      "3. better --> better\n",
      "4. houses --> house\n",
      "5. wonderful --> wonderful\n",
      "6. happier --> happier\n",
      "7. rocking --> rock\n",
      "8. talked --> talk\n",
      "9. jumps --> jump\n",
      "10. wrote --> write\n",
      "11. working --> work\n",
      "12. easier --> easier\n",
      "13. happiest --> happiest\n",
      "14. played --> play\n",
      "15. faster --> faster\n",
      "16. swimming --> swim\n",
      "17. playing --> play\n",
      "18. saddest --> saddest\n",
      "19. glorious --> glorious\n",
      "20. happily --> happily\n"
     ]
    }
   ],
   "source": [
    "for i, word in enumerate(words):\n",
    "    print(f\"{i+1}. {word} --> {lemmatizer.lemmatize(word, pos = 'v')}\")"
   ]
  }
 ],
 "metadata": {
  "kernelspec": {
   "display_name": "Python 3",
   "language": "python",
   "name": "python3"
  },
  "language_info": {
   "codemirror_mode": {
    "name": "ipython",
    "version": 3
   },
   "file_extension": ".py",
   "mimetype": "text/x-python",
   "name": "python",
   "nbconvert_exporter": "python",
   "pygments_lexer": "ipython3",
   "version": "3.11.4"
  }
 },
 "nbformat": 4,
 "nbformat_minor": 2
}
